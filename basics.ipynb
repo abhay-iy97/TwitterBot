{
 "cells": [
  {
   "cell_type": "code",
   "execution_count": 18,
   "metadata": {},
   "outputs": [],
   "source": [
    "import tweepy\n",
    "\n",
    "#Authentication\n",
    "f = open('keys/keys.txt','r')\n",
    "keys = dict()\n",
    "\n",
    "for i in f.read().split('\\n')[:-1]: #-1 to avoid newline at end of the keys.txt\n",
    "    try:\n",
    "        keys[i.split(':')[0]] = i.split(':')[1]\n",
    "    except:\n",
    "        print(\"Error in accessing keys\")\n",
    "        \n",
    "auth = tweepy.OAuthHandler(keys['API key'],keys['API secret key'])\n",
    "auth.set_access_token(keys['Access token'], keys['Access token secret'])"
   ]
  },
  {
   "cell_type": "markdown",
   "metadata": {},
   "source": [
    "### API Object"
   ]
  },
  {
   "cell_type": "code",
   "execution_count": 3,
   "metadata": {},
   "outputs": [],
   "source": [
    "#API Object\n",
    "api = tweepy.API(auth,wait_on_rate_limit=True,wait_on_rate_limit_notify=True)\n",
    "\n",
    "#template\n",
    "try:\n",
    "    pass\n",
    "except:\n",
    "    print('Exception in method')\n"
   ]
  },
  {
   "cell_type": "markdown",
   "metadata": {},
   "source": [
    "### User "
   ]
  },
  {
   "cell_type": "code",
   "execution_count": 24,
   "metadata": {},
   "outputs": [
    {
     "name": "stdout",
     "output_type": "stream",
     "text": [
      "Pawan Sasanka Ammanamanchi\n",
      "All followers info\n",
      "Stephen Lang\n",
      "I write software across entire product stacks from ultra-low-power MCU, RTOS, drivers, wired and wireless, Linux, cloud, neural nets, mobile, web etc.\n",
      "Saloni Suchdev\n",
      "\n",
      "Cassidy Leventhal\n",
      "Investor in education & employment pathways @univenturesfund, recovering consultant @mckinsey, unrepentant coffee addict 📓 ☕️\n",
      "Andrew Conner\n",
      "⌨️ https://t.co/XZ4LURv87O \n",
      "⛰ @unlocklevels cofounder \n",
      "📬 hi @ andrewconner .com, DMs open \n",
      "🗣 learning how to learn. startups, mindfulness, investing, metamodernism\n",
      "Path Polymath\n",
      "Never Stop Learning 📚| Always Be Curious 🧐| Resources & Motivational Quotes for Aspiring Polymaths to Reach their Personal Development Goals Faster 🚀\n",
      "Randall Bennett\n",
      "founder @vidpresso (yc w14, acq'd by @Facebook) Making video editable after it's created, more like HTML. Allegedly a nice guy. Helps founders w/ depression.\n",
      "Karan Hiranandani\n",
      "Manchester United and Cricket 🇮🇳\n",
      "Sudhanshu Srivastava\n",
      "jack of quite a few trades.\n",
      "sometimes a hypocrite.\n",
      "conservative curious\n",
      "uncovering and connecting niche thinkers | philosophy tech culture | podcast hosted by @jessicadangsays and @ani_pai\n",
      "YasCrypto\n",
      "Portfolio Manager MBA@Nima Capital/VC/Blockchain/emerging markets/Public Health/@ucbAlumn/BTC/ETH/ REP/COMP/0X/ MKR/Coinme/AMP/ECO/AMPL/ZEC/Parafi/IDEO/FP/IDEO\n",
      "Simon DeDeo\n",
      "Faculty, Carnegie Mellon University & the Santa Fe Institute. Runs the Laboratory for Social Minds.\n",
      "James Ough\n",
      "\n",
      "Camila Correa\n",
      "Who run the world? Girls!\n",
      "Luis Lamb\n",
      "Full Professor, Foundations of CS and #AI; PhD Computer Science from @imperialcollege (2000); Secretary of Innovation, Science & Tech, Rio Grande do Sul, Brazil\n",
      "Belong.io unofficial\n",
      "unofficial. contact @cmaxmagee\n",
      "Jason Yanowitz\n",
      "Building @BlockWorksGroup\n",
      "Pɾҽɱ Kυɱαɾ Aραɾαɳʝι 🏡😷🤖💬🦾🎫\n",
      "Head of IT Ops - Automation @Cognizant; Co-Founder @ https://t.co/oKEsdktvYL; Managing Committee @kansindia; \n",
      "\n",
      "Own views.\n",
      "(((ل()(ل() 'yoav))))\n",
      "\n",
      "purell vida ᵗᵐ\n",
      "wandering blasphemer\n",
      "Nathan Benaich\n",
      "AI-first investing @airstreet, running @raais @londonai @parisai communities, VP @pointninecap, co-author https://t.co/MzAXS5gB7d, science, food, photography 🤓👾🐶\n",
      "Rafael Caferati 💻\n",
      "Award-winning UI/UX developer specialist. React, React Native consultant. https://t.co/jQN0WER4lP ← 🇧🇷🇮🇹🇩🇪 Remotely available UTC+1 to UTC-8\n",
      "Paul Oreto\n",
      "\n",
      "Siddharth Bhat\n",
      "\n",
      "Matt Rice\n",
      "Eng @UMAprotocol, previously @Google, @Domeyard\n",
      "Everett Berry\n",
      "Founder and CEO @perceiveinc. Too many tweets about golf. @beondeck @pioneerdotapp @alchemistacc\n",
      "Pawan Jadhav\n",
      "Always Winning!!!!!\n",
      "Jeff\n",
      "Fan of @tesla, @spacex\n",
      "fascinated by #machinelearning #neuralnetworks trying to get into #gatech masters program\n",
      "Emanuele Ballarin\n",
      "[Data Science | AI] student. Into [deep | reinforcement | bayesian] learning, [safe | verifiable | adversarially-robust | neuromorphic] AI. Quantitativist.\n",
      "Evan Kirstel #RemoteWork\n",
      "#B2B #Social “Influencer” helping #Tech clients w #SocialMedia #Marketing @evirahealth #Telehealth #Telecom #5G ChiefDigitalOfficer at ➡️https://t.co/2OQ6lACGju⬅️\n",
      "JZ (╯°□°)╯︵ ┻━┻\n",
      "Starting @YouAreMatrix | Pioneer @pioneerdotapp | Former fellow @IDEOCoLab | I have a 🐶.  I like ⬜️⛓️and 🎮⚽️\n",
      "Yagu\n",
      "Imagine letting a random person on the internet actually control your emotional state\n",
      "Alberto Arenaza\n",
      "Exploring the future of learning + the future of work 🗺\n",
      "\n",
      "Cofounder @transcendnet | Inaugural Class @MinervaSchools | @DalbergTweet\n",
      "Spencer Schneier\n",
      "quantitative neurobotanist\n",
      "Howell\n",
      "\n",
      "Pushparaj Zala\n",
      "YouTube - https://t.co/2MMatkOHu1\n",
      "BitoΨ ArՑience Magazine\n",
      "Art ∩ Science Magazine covering advances in the intersection between art & science. Old Account Hacked ! Currently Artist in Residence @IGCIENCIA via @alagraphy\n",
      "Isabella Wilson\n",
      "Live in Melbourne, Australia\n",
      "\n",
      "Crypto investor. \n",
      "\n",
      "Glad to talk on any topic on #Bitcoin, #Ethereum, #Altcoins.  \n",
      "\n",
      "Also work for JEX(Twitter @JEX_Derivative)\n",
      "Trent Hedge\n",
      "Building @buildatmos | @ycombinator S20\n",
      "Ben Reid\n",
      "Tech | Strategy | Growth.\n",
      "Director @MemiaLabs. Weekly newsletter: https://t.co/tOobEEvoDt. Home #Ōtautahi #Aotearoa // dispersed in the ☁️💭🌩️\n",
      "CryptoCNC.com\n",
      "Welcome to CryptoCNC!\n",
      "\n",
      "We carve Custom High Quality #Bitcoin & #Crypto Artwork with a CNC machine from wood & numerous other materials!\n",
      "Mo\n",
      "sports, tech buzzwords, sports, sports, sports\n",
      "Amin Kasimov\n",
      "@Brandfetch, Bitcoin, Books\n",
      "Cameron Kelley\n",
      "Engineer. Investing @contrarycapital, mechE @tamu ‘20.\n",
      "Bram Donkers\n",
      "UX Architect & Experience Designer | Your partner for effective and user-centered interactive solutions.\n",
      "Josephine Lai\n",
      "Reimagining the future of humans. Disruptions, #legal issues and #inclusion in #EmergingTech, #Education, #Health.\n",
      "Jordan Ryan Peterson\n",
      "Have you ever wondered why we are so damn wrong most of the times? And yet, we wouldn't admit...never\n",
      "Abhay Iyer\n",
      "\n",
      "Kinnexus.IO\n",
      "Transforming how the world's top professionals share and monetize their expertise. Join today!\n",
      "Jason Antic\n",
      "Obsessively pursuing the perfection of image and video colorization/restoration using deep learning.  Creator of DeOldify.\n",
      "skellig.ai\n",
      "May the fast be with you!\n",
      "\n",
      "#AI in #Ireland for padowan learners of all genders\n"
     ]
    }
   ],
   "source": [
    "try:\n",
    "    user = api.get_user('paws_ed')\n",
    "    print(user.name)\n",
    "    print(\"All followers info\")\n",
    "    for follower in user.followers(count=50):\n",
    "        print(follower.name)\n",
    "        print(follower.description)\n",
    "except:\n",
    "    print(\"Exception in user method\")"
   ]
  },
  {
   "cell_type": "markdown",
   "metadata": {},
   "source": [
    "### Followers"
   ]
  },
  {
   "cell_type": "code",
   "execution_count": 12,
   "metadata": {},
   "outputs": [],
   "source": [
    "#Method for followers\n",
    "try:\n",
    "    api.create_friendship('realpython')\n",
    "except:\n",
    "    print('Exception in follower method')\n"
   ]
  },
  {
   "cell_type": "markdown",
   "metadata": {},
   "source": [
    "### Bio Update"
   ]
  },
  {
   "cell_type": "code",
   "execution_count": 14,
   "metadata": {},
   "outputs": [],
   "source": [
    "#Method for bio update\n",
    "try:\n",
    "    api.update_profile(description=\"On top of dat bot life\")\n",
    "except:\n",
    "    print('Exception in bio update method')"
   ]
  },
  {
   "cell_type": "markdown",
   "metadata": {},
   "source": [
    "### Like Tweets"
   ]
  },
  {
   "cell_type": "code",
   "execution_count": 4,
   "metadata": {},
   "outputs": [
    {
     "name": "stdout",
     "output_type": "stream",
     "text": [
      "Liking tweet  1280637773293260801  of  {'Real Python'}\n"
     ]
    }
   ],
   "source": [
    "#Liking the most recent tweet\n",
    "try:\n",
    "    recents = api.home_timeline(count=5)\n",
    "    tweet  = recents[0]\n",
    "    print('Liking tweet ',tweet.id,' of ',{tweet.author.name})\n",
    "    api.create_favorite(tweet.id)\n",
    "except:\n",
    "    print('Exception in recents method')"
   ]
  },
  {
   "cell_type": "markdown",
   "metadata": {},
   "source": [
    "### Tweeting"
   ]
  },
  {
   "cell_type": "code",
   "execution_count": 5,
   "metadata": {},
   "outputs": [],
   "source": [
    "try:\n",
    "    api.update_status('knock knock')\n",
    "except:\n",
    "    print('Exception in tweeting method')"
   ]
  },
  {
   "cell_type": "markdown",
   "metadata": {},
   "source": [
    "### Searching Tweets based on filters"
   ]
  },
  {
   "cell_type": "code",
   "execution_count": 6,
   "metadata": {},
   "outputs": [
    {
     "name": "stdout",
     "output_type": "stream",
     "text": [
      "Kevin Weatherwalks : Day 7 of #100DaysOfCode:\n",
      "Finished the Computer Science path on @codecademy after learning how Dijkstra's algorithm… https://t.co/EGVLuOOEBy\n",
      "🏵𝕽𝖆𝖈𝖍𝖊𝖑 ⚔️ 𝕸𝖎𝖑𝖑𝖊𝖗🏵 : RT @RachelMillerArt: Time to settle this. Which surviving Python is your fave?\n",
      "print(\"Matheus 🌎\") : RT @KirkDBorne: 7 Cool #Python Tricks That You (Probably) Didn’t Know: https://t.co/BhH5kECdUY \n",
      "——————\n",
      "#DataScience #Coding #DataScientists…\n",
      "carrie white ✨ : @michaelagrammar thomas chatterton williams sounds like a discarded monty python name\n",
      "S k y e • (...) : @Colm_Fe Stay safe man. Know that we’re all here for you and care about you. Good luck with your recovery.\n",
      "Coding for a better world. ¿Need help? : RT @thisisgulshan: Ultimate Step by Step Guide to Machine Learning Using #Python. #BigData #Analytics #DataScience #IoT #IIoT #RStats #Tens…\n",
      "nlognbot : RT @nirbhayvashisht: A request/suggestion to all @CodeNewbies. \n",
      "This thread contains the list of some of the Computer Science legends.\n",
      "Read…\n",
      "Inferno : RT @nirbhayvashisht: A request/suggestion to all @CodeNewbies. \n",
      "This thread contains the list of some of the Computer Science legends.\n",
      "Read…\n",
      "Lucky : 🍓 I pile it high on a  National #strawberrysundaeday 🍓 Thanks to \n",
      "monty_montgomery_python I get to convince the hoo… https://t.co/0jEo8onUf7\n",
      "Soumya M : RT @nirbhayvashisht: A request/suggestion to all @CodeNewbies. \n",
      "This thread contains the list of some of the Computer Science legends.\n",
      "Read…\n"
     ]
    }
   ],
   "source": [
    "try:\n",
    "    for tweet in api.search(q=\"python\", lang=\"en\", count=10):\n",
    "        print(tweet.user.name,':',tweet.text)\n",
    "except:\n",
    "    print('Exception in searching tweets method')\n",
    "\n"
   ]
  },
  {
   "cell_type": "markdown",
   "metadata": {},
   "source": [
    "### Trends"
   ]
  },
  {
   "cell_type": "code",
   "execution_count": 52,
   "metadata": {},
   "outputs": [
    {
     "name": "stdout",
     "output_type": "stream",
     "text": [
      "{'name': 'India', 'placeType': {'code': 12, 'name': 'Country'}, 'url': 'http://where.yahooapis.com/v1/place/23424848', 'parentid': 1, 'country': 'India', 'woeid': 23424848, 'countryCode': 'IN'}\n",
      "#HappyBirthdayDada\n",
      "#wednesdaymorning\n",
      "#StopChildMarriage\n",
      "#BurhanWani\n",
      "Amar Dubey\n",
      "#FirstSoloistV\n",
      "श्री गणेश\n",
      "JINKI\n",
      "Zlatan\n",
      "Faridabad\n",
      "Vardy\n",
      "Juventus\n",
      "lazio\n",
      "World Health Organization\n",
      "Renault\n",
      "Ashutosh\n",
      "CBSE\n",
      "Dhoom dhoom\n",
      "#YSRForever\n",
      "#airborne\n",
      "#चातुर्मास_की_महिमा\n",
      "#DrKafeelWantsJustice\n",
      "#ChinaAdmitsPushback\n",
      "#lockdownextension\n",
      "#KurtaTwitter\n",
      "#ARSLEI\n",
      "#KeralaGoldScandal\n",
      "#MilanJuve\n",
      "#WhyDelayInCBIForSSR\n",
      "#ENGvWI\n",
      "#Chelsea\n",
      "#mahendrasinghdhoni\n",
      "#DilBecharaTrailer\n",
      "#cancelfinalyearexam\n",
      "#VikramBatra\n"
     ]
    }
   ],
   "source": [
    "try:\n",
    "    for i in api.trends_available():\n",
    "        if(i['name']=='India'):\n",
    "            print(i)\n",
    "            woeid = i['woeid']\n",
    "    list_of_trends = api.trends_place(woeid)\n",
    "    for i in list_of_trends[0]['trends']:\n",
    "        print(i['name'])\n",
    "except:\n",
    "    print('Exception in trends method')"
   ]
  },
  {
   "cell_type": "markdown",
   "metadata": {},
   "source": [
    "### Streamer "
   ]
  },
  {
   "cell_type": "code",
   "execution_count": 20,
   "metadata": {},
   "outputs": [
    {
     "name": "stdout",
     "output_type": "stream",
     "text": [
      "Puneet Gautam : RT @Himanshu80920: Sourav Ganguly - Revamper of Indian Cricket\n",
      "\n",
      "Under His Captaincy\n",
      "\n",
      "ODIs: 58 Wins in Outside India and 18 Wins in India…\n",
      "Yukesh Kumar : RT @ICC: 🏏 Third-fastest to 10,000 ODI runs\n",
      "⭐ Holds the record for the highest individual score in CWC for India\n",
      "🥈 2003 ICC Men's @cricketw…\n",
      "RohitiaN : RT @TrendsRohit: Happy Birthday To The Most Loved Capitan For Team India Ever @SGanguly99. Wishes From Hitman @ImRo45 Fans ❤\n",
      "\n",
      "#HappyBirthda…\n",
      "Vinu : RT @HumanityNext: USA rescued this Mu$lim woman from Somalia and provided new home 🏠 \n",
      "In return, she is asking to dismantle USA 🇺🇸 \n",
      "\n",
      "You he…\n",
      "ProfessoR JameS MoriartY : RT @t_d_h_nair: Chinese army entered 3km inside India, set up camps in Galwan Valley, blocked Indian troops patrolling the area.\n",
      "India nego…\n",
      "Fazal Karim Afridi🇵🇰❤️🇹🇷 : RT @raorashid2012: India can never stop Kashmir's independence Kashmir will be free In sha Allah #BurhanWani \n",
      "\n",
      " #WaniSparkedFreedomHope htt…\n",
      "AIPC NORTH DELHI : RT @ashokkmrsingh: What pullback? Armies of India and China are still facing each other in battle ready positions... They have just created…\n",
      "Abhinav singhal : @kundankroy @AnyBodyCanFly @Patrick__Geddes @FI_InvestIndia @safalniveshak Yes.... instead of articles...you simply… https://t.co/WGSF4T4wgo\n",
      "Finnigans 天有道地有道人无道 : @realDonaldTrump @WashTimes #TrumpVirus USA 60,000+ cases. New record\n",
      "kavita hooda : RT @manav22: Selfie Time #ShehnaazGill 😍❤️😍\n",
      "#Chilling #RainyDay #mumbai #india #BigBoss13 #instagram #instadaily #instalove #ManavManglani…\n",
      "Animenta : @Zapp81b80az8 @GeneralDisrder @Noonek_co You should read this, jump to controversy.\n",
      "https://t.co/fDXRTISEqg\n",
      "jc : RT @pattonoswalt: Could everyone PLEASE stop sharing this video of Michael Lofthouse? He’s the founder &amp; CEO of Solid8, a tech company base…\n",
      "🔞🇨🇷IverJosJQ🇨🇷🔞 : RT @LilithLovett: India banning TikTok might not have seemed like a huge deal at first, but in reality it was devastating for the app.\n",
      "\n",
      "Ind…\n",
      "Vineeth : RT @ICC: 🏏 Third-fastest to 10,000 ODI runs\n",
      "⭐ Holds the record for the highest individual score in CWC for India\n",
      "🥈 2003 ICC Men's @cricketw…\n",
      "Robert Phillipps : RT @pattonoswalt: Could everyone PLEASE stop sharing this video of Michael Lofthouse? He’s the founder &amp; CEO of Solid8, a tech company base…\n",
      "Andrew Rose : RT @TractorZoom: We just won the @TechnologyIowa’s Tech Startup of the Year! Prometheus award winners, babeeeee! #farmerfirst #findtractors…\n",
      "ஆனந்த் आनंद আনন্দ Anand : Two of the modern day Bengali Icons celebrate their birthday today. Saurav Ganguly who helped team India discover i… https://t.co/65qySuksee\n",
      "Stream error\n"
     ]
    }
   ],
   "source": [
    "import json\n",
    "\n",
    "class MyListener(tweepy.StreamListener):\n",
    "    def __init__(self, api):\n",
    "        self.api = api\n",
    "        self.me = api.me()\n",
    "    def on_status(self, tweet):\n",
    "        print(tweet.user.name, ':', tweet.text)\n",
    "\n",
    "    def on_error(self, status):\n",
    "        print('Error detected')\n",
    "\n",
    "#Authentication\n",
    "f = open('keys/keys.txt','r')\n",
    "keys = dict()\n",
    "\n",
    "for i in f.read().split('\\n')[:-1]: #-1 to avoid newline at end of the keys.txt\n",
    "    try:\n",
    "        keys[i.split(':')[0]] = i.split(':')[1]\n",
    "    except:\n",
    "        print(\"Error in accessing keys\")\n",
    "\n",
    "auth = tweepy.OAuthHandler(keys['API key'],keys['API secret key'])\n",
    "auth.set_access_token(keys['Access token'], keys['Access token secret'])\n",
    "\n",
    "#API Object\n",
    "api = tweepy.API(auth,wait_on_rate_limit=True,wait_on_rate_limit_notify=True)\n",
    "\n",
    "try:\n",
    "    tweets_listener = MyListener(api) \n",
    "    stream = tweepy.Stream(api.auth, tweets_listener)\n",
    "    stream.filter(track=[\"tech\", \"India\", \"USA\"], languages=[\"en\"])    #Invokes on_status when filter matches\n",
    "except:\n",
    "    print('Stream error') #Handling keyboard interrupt and other errors.\n"
   ]
  }
 ],
 "metadata": {
  "kernelspec": {
   "display_name": "Python 3",
   "language": "python",
   "name": "python3"
  },
  "language_info": {
   "codemirror_mode": {
    "name": "ipython",
    "version": 3
   },
   "file_extension": ".py",
   "mimetype": "text/x-python",
   "name": "python",
   "nbconvert_exporter": "python",
   "pygments_lexer": "ipython3",
   "version": "3.7.6"
  }
 },
 "nbformat": 4,
 "nbformat_minor": 4
}
